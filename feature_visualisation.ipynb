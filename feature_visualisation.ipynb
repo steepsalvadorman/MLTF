{
 "cells": [
  {
   "cell_type": "code",
   "execution_count": 16,
   "metadata": {},
   "outputs": [],
   "source": [
    "import os\n",
    "import numpy as np\n",
    "import pandas as pd\n",
    "from sklearn.preprocessing import LabelEncoder, StandardScaler\n",
    "from preprocessing import preprocess\n",
    "\n",
    "data = pd.read_csv(\"data/cefr_leveled_texts.csv\")\n",
    "# Suponiendo que 'data' es un DataFrame definido anteriormente\n",
    "preproc_data, labels = preprocess(data)\n",
    "preproc_data = preproc_data.fillna(0)\n",
    "scaler = StandardScaler()\n",
    "preproc_data = pd.DataFrame(scaler.fit_transform(preproc_data), columns=preproc_data.columns)\n",
    "label_encoder = LabelEncoder()\n",
    "labels = label_encoder.fit_transform(data.label)\n",
    "preproc_data.sample(5)"
   ]
  },
  {
   "cell_type": "code",
   "execution_count": null,
   "metadata": {},
   "outputs": [],
   "source": [
    "import matplotlib.pyplot as plt\n",
    "\n",
    "mean_scores = {}\n",
    "for column in preproc_data.columns:\n",
    "    mean = preproc_data.groupby(\"label\")[column].mean()\n",
    "    mean_scores[column] = mean\n",
    "\n",
    "\n",
    "fig, axs = plt.subplots(len(mean_scores))\n",
    "fig.set_size_inches((10, 60))\n",
    "for i, (title, data) in enumerate(mean_scores.items()):\n",
    "    axs[i].plot(data.index, data.values)\n",
    "    axs[i].set_title(title)\n"
   ]
  },
  {
   "cell_type": "code",
   "execution_count": 62,
   "metadata": {},
   "outputs": [],
   "source": [
    "preproc_data.to_csv(\"data/CEFR/preprocessed_cefr_leveled_texts.csv\", index=False)"
   ]
  },
  {
   "cell_type": "code",
   "execution_count": null,
   "metadata": {},
   "outputs": [],
   "source": []
  }
 ],
 "metadata": {
  "kernelspec": {
   "display_name": "Python 3",
   "language": "python",
   "name": "python3"
  },
  "language_info": {
   "codemirror_mode": {
    "name": "ipython",
    "version": 3
   },
   "file_extension": ".py",
   "mimetype": "text/x-python",
   "name": "python",
   "nbconvert_exporter": "python",
   "pygments_lexer": "ipython3",
   "version": "3.11.9"
  },
  "orig_nbformat": 2
 },
 "nbformat": 4,
 "nbformat_minor": 2
}
